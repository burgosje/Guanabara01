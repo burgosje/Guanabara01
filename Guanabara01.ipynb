{
  "nbformat": 4,
  "nbformat_minor": 0,
  "metadata": {
    "colab": {
      "provenance": [],
      "authorship_tag": "ABX9TyNR/fn+X5I2/mD4p1JyycKx",
      "include_colab_link": true
    },
    "kernelspec": {
      "name": "python3",
      "display_name": "Python 3"
    },
    "language_info": {
      "name": "python"
    }
  },
  "cells": [
    {
      "cell_type": "markdown",
      "metadata": {
        "id": "view-in-github",
        "colab_type": "text"
      },
      "source": [
        "<a href=\"https://colab.research.google.com/github/burgosje/Guanabara01/blob/main/Guanabara01.ipynb\" target=\"_parent\"><img src=\"https://colab.research.google.com/assets/colab-badge.svg\" alt=\"Open In Colab\"/></a>"
      ]
    },
    {
      "cell_type": "markdown",
      "source": [
        "Material de estudos de Curso em Vídeo de Guanabara"
      ],
      "metadata": {
        "id": "N6NX-mMGpo40"
      }
    },
    {
      "cell_type": "code",
      "execution_count": null,
      "metadata": {
        "colab": {
          "base_uri": "https://localhost:8080/",
          "height": 35
        },
        "id": "iRx5ycK6kVfd",
        "outputId": "842a0fb4-ce8d-480c-8f89-be0c8e35ae2a"
      },
      "outputs": [
        {
          "output_type": "execute_result",
          "data": {
            "text/plain": [
              "'OiOlá'"
            ],
            "application/vnd.google.colaboratory.intrinsic+json": {
              "type": "string"
            }
          },
          "metadata": {},
          "execution_count": 1
        }
      ],
      "source": [
        "'Oi' + 'Olá'"
      ]
    },
    {
      "cell_type": "code",
      "source": [
        "5+3*2"
      ],
      "metadata": {
        "colab": {
          "base_uri": "https://localhost:8080/"
        },
        "id": "FUQcLH4MkfoF",
        "outputId": "21bd6e99-7198-4fa1-afe4-c99badd71919"
      },
      "execution_count": null,
      "outputs": [
        {
          "output_type": "execute_result",
          "data": {
            "text/plain": [
              "11"
            ]
          },
          "metadata": {},
          "execution_count": 2
        }
      ]
    },
    {
      "cell_type": "code",
      "source": [
        "5**2"
      ],
      "metadata": {
        "colab": {
          "base_uri": "https://localhost:8080/"
        },
        "id": "MrWv_2Gnkl9L",
        "outputId": "1f40ad4b-d226-4ac1-b2fd-34fd85c7c213"
      },
      "execution_count": null,
      "outputs": [
        {
          "output_type": "execute_result",
          "data": {
            "text/plain": [
              "25"
            ]
          },
          "metadata": {},
          "execution_count": 3
        }
      ]
    },
    {
      "cell_type": "code",
      "source": [
        "5**3"
      ],
      "metadata": {
        "colab": {
          "base_uri": "https://localhost:8080/"
        },
        "id": "cay25InqknuU",
        "outputId": "86c1f748-fe5f-4937-e255-bd6e1400521a"
      },
      "execution_count": null,
      "outputs": [
        {
          "output_type": "execute_result",
          "data": {
            "text/plain": [
              "125"
            ]
          },
          "metadata": {},
          "execution_count": 4
        }
      ]
    },
    {
      "cell_type": "code",
      "source": [
        "19//2"
      ],
      "metadata": {
        "colab": {
          "base_uri": "https://localhost:8080/"
        },
        "id": "O7Xdvj1Mkr23",
        "outputId": "824dde72-9ea1-4404-94b0-928951fe2bfa"
      },
      "execution_count": null,
      "outputs": [
        {
          "output_type": "execute_result",
          "data": {
            "text/plain": [
              "9"
            ]
          },
          "metadata": {},
          "execution_count": 5
        }
      ]
    },
    {
      "cell_type": "code",
      "source": [
        "19/2"
      ],
      "metadata": {
        "colab": {
          "base_uri": "https://localhost:8080/"
        },
        "id": "slEevOLQktmI",
        "outputId": "7b45648c-157c-43d8-bb69-55592b8ad94e"
      },
      "execution_count": null,
      "outputs": [
        {
          "output_type": "execute_result",
          "data": {
            "text/plain": [
              "9.5"
            ]
          },
          "metadata": {},
          "execution_count": 6
        }
      ]
    },
    {
      "cell_type": "code",
      "source": [
        "365**522"
      ],
      "metadata": {
        "colab": {
          "base_uri": "https://localhost:8080/"
        },
        "id": "Y_fxtiKXkvk0",
        "outputId": "cac21928-cd2d-42b5-a306-ae14303a4101"
      },
      "execution_count": null,
      "outputs": [
        {
          "output_type": "execute_result",
          "data": {
            "text/plain": [
              "328757179819813422897342196080764612107983831743389023624405255670690832060848221824306724753890685373501884093100548274222202663446608298512276776135446705469491814539803873642610394430773633554403355416974854007035755228889612424513374927559842603441418654104461280145637681789303089629527662565782973169473632613892227202558852797417890403781298627935060943131553207847071012503628934101032568553492005722471235231175395508478579666737993774691221615401882520433870241816456538902550621493799034888700490988180773993600803740261912173392899204969073991772519053632900131878746604281127190866631915762608689816806771836872415722791565149632176594565096318733265520269878534562068905210887036910677779213731152584356530644171389622698260088337435627254504382786190234343066196447449762641236425340982756792144082378252527121431558389772373943718349561294131169636736255312634653334887203122825969534260679785514411488205619827582773094708191924556184435978863549262949792896533760832798285965554733612854129717778632012055700151978056791790524010052527327495001179716488946524725767902738384512922791579787066666412111532082155241351220020125791273120398070293320004319283837665370506925822282513313193463726035323295851514647384470993862048857953573304447474731813602449983852690376567914012245243127186000720030278898775577545166015625"
            ]
          },
          "metadata": {},
          "execution_count": 7
        }
      ]
    },
    {
      "cell_type": "code",
      "source": [
        "18%2"
      ],
      "metadata": {
        "colab": {
          "base_uri": "https://localhost:8080/"
        },
        "id": "VyQj0If_kzPN",
        "outputId": "8b6b0401-a7b9-403e-b56e-1241cabe3635"
      },
      "execution_count": null,
      "outputs": [
        {
          "output_type": "execute_result",
          "data": {
            "text/plain": [
              "0"
            ]
          },
          "metadata": {},
          "execution_count": 8
        }
      ]
    },
    {
      "cell_type": "code",
      "source": [
        "122%3"
      ],
      "metadata": {
        "colab": {
          "base_uri": "https://localhost:8080/"
        },
        "id": "un946jRCk3G8",
        "outputId": "044e7008-5b74-43fc-e97f-e090ebc135b6"
      },
      "execution_count": null,
      "outputs": [
        {
          "output_type": "execute_result",
          "data": {
            "text/plain": [
              "2"
            ]
          },
          "metadata": {},
          "execution_count": 9
        }
      ]
    },
    {
      "cell_type": "code",
      "source": [
        "4**3"
      ],
      "metadata": {
        "colab": {
          "base_uri": "https://localhost:8080/"
        },
        "id": "jldZ9Y-Fk6uI",
        "outputId": "4b52f809-e09d-48fc-b47f-2d543be8d79d"
      },
      "execution_count": null,
      "outputs": [
        {
          "output_type": "execute_result",
          "data": {
            "text/plain": [
              "64"
            ]
          },
          "metadata": {},
          "execution_count": 10
        }
      ]
    },
    {
      "cell_type": "code",
      "source": [
        "pow(4,3)"
      ],
      "metadata": {
        "colab": {
          "base_uri": "https://localhost:8080/"
        },
        "id": "7jAQuT_pk8YQ",
        "outputId": "d445b349-d1b1-43ad-f627-ba177b281638"
      },
      "execution_count": null,
      "outputs": [
        {
          "output_type": "execute_result",
          "data": {
            "text/plain": [
              "64"
            ]
          },
          "metadata": {},
          "execution_count": 11
        }
      ]
    },
    {
      "cell_type": "code",
      "source": [
        "81**(1/2)"
      ],
      "metadata": {
        "colab": {
          "base_uri": "https://localhost:8080/"
        },
        "id": "E1T0MUexk_Tp",
        "outputId": "51a9377b-4957-4f70-b9b3-6f3b430e067f"
      },
      "execution_count": null,
      "outputs": [
        {
          "output_type": "execute_result",
          "data": {
            "text/plain": [
              "9.0"
            ]
          },
          "metadata": {},
          "execution_count": 12
        }
      ]
    },
    {
      "cell_type": "code",
      "source": [
        "25**(1/2)"
      ],
      "metadata": {
        "colab": {
          "base_uri": "https://localhost:8080/"
        },
        "id": "aY3f5RXDlEKP",
        "outputId": "f36ab097-cd59-4399-d0a5-5c90bc3a80ed"
      },
      "execution_count": null,
      "outputs": [
        {
          "output_type": "execute_result",
          "data": {
            "text/plain": [
              "5.0"
            ]
          },
          "metadata": {},
          "execution_count": 13
        }
      ]
    },
    {
      "cell_type": "code",
      "source": [
        "127**(1/3)"
      ],
      "metadata": {
        "colab": {
          "base_uri": "https://localhost:8080/"
        },
        "id": "jj5H6nlFlHOl",
        "outputId": "0894b34b-cd9d-4460-a7bb-55f369a611dc"
      },
      "execution_count": null,
      "outputs": [
        {
          "output_type": "execute_result",
          "data": {
            "text/plain": [
              "5.026525695313479"
            ]
          },
          "metadata": {},
          "execution_count": 14
        }
      ]
    },
    {
      "cell_type": "code",
      "source": [
        "'Oi' + 'Olá'"
      ],
      "metadata": {
        "colab": {
          "base_uri": "https://localhost:8080/",
          "height": 35
        },
        "id": "mUxHOqCjlMRH",
        "outputId": "23d232f0-496f-4c31-eff3-edd73d155ab2"
      },
      "execution_count": null,
      "outputs": [
        {
          "output_type": "execute_result",
          "data": {
            "text/plain": [
              "'OiOlá'"
            ],
            "application/vnd.google.colaboratory.intrinsic+json": {
              "type": "string"
            }
          },
          "metadata": {},
          "execution_count": 15
        }
      ]
    },
    {
      "cell_type": "code",
      "source": [
        "'Oi' * 5"
      ],
      "metadata": {
        "colab": {
          "base_uri": "https://localhost:8080/",
          "height": 35
        },
        "id": "W__e4E0nlSX1",
        "outputId": "d1f0c235-14a2-402d-8745-4aac47cb923c"
      },
      "execution_count": null,
      "outputs": [
        {
          "output_type": "execute_result",
          "data": {
            "text/plain": [
              "'OiOiOiOiOi'"
            ],
            "application/vnd.google.colaboratory.intrinsic+json": {
              "type": "string"
            }
          },
          "metadata": {},
          "execution_count": 16
        }
      ]
    },
    {
      "cell_type": "code",
      "source": [
        "'=' * 20"
      ],
      "metadata": {
        "colab": {
          "base_uri": "https://localhost:8080/",
          "height": 35
        },
        "id": "krPT6redlWV8",
        "outputId": "1a4e2dca-b7ef-47ae-afd2-96ee2236df4b"
      },
      "execution_count": null,
      "outputs": [
        {
          "output_type": "execute_result",
          "data": {
            "text/plain": [
              "'===================='"
            ],
            "application/vnd.google.colaboratory.intrinsic+json": {
              "type": "string"
            }
          },
          "metadata": {},
          "execution_count": 17
        }
      ]
    },
    {
      "cell_type": "code",
      "source": [
        "print('=' * 20)"
      ],
      "metadata": {
        "colab": {
          "base_uri": "https://localhost:8080/"
        },
        "id": "7PWtBEFQlZPP",
        "outputId": "dc848826-bdf1-4add-90f1-abb9edacffe8"
      },
      "execution_count": null,
      "outputs": [
        {
          "output_type": "stream",
          "name": "stdout",
          "text": [
            "====================\n"
          ]
        }
      ]
    },
    {
      "cell_type": "code",
      "source": [
        "nome = input('Qual é seu nome? ')\n",
        "print('Prazer em te conhecer {}!'.format(nome))"
      ],
      "metadata": {
        "colab": {
          "base_uri": "https://localhost:8080/"
        },
        "id": "yEJMZK8zlgYN",
        "outputId": "9d575383-8e05-45d0-d3b1-13aa4aa862b8"
      },
      "execution_count": null,
      "outputs": [
        {
          "output_type": "stream",
          "name": "stdout",
          "text": [
            "Qual é seu nome? Jé\n",
            "Prazer em te conhecer Jé!\n"
          ]
        }
      ]
    },
    {
      "cell_type": "code",
      "source": [
        "nome = input('Qual é seu nome? ')\n",
        "print('Prazer em te conhecer {:>20}!'.format(nome))"
      ],
      "metadata": {
        "id": "2bVeWUsOl46W"
      },
      "execution_count": null,
      "outputs": []
    },
    {
      "cell_type": "code",
      "source": [
        "nome = input('Qual é seu nome? ')\n",
        "print('Prazer em te conhecer {:<20}!'.format(nome))"
      ],
      "metadata": {
        "id": "4m_QEerlmsdz"
      },
      "execution_count": null,
      "outputs": []
    },
    {
      "cell_type": "code",
      "source": [
        "nome = input('Qual é seu nome? ')\n",
        "print('Prazer em te conhecer {:^20}!'.format(nome))"
      ],
      "metadata": {
        "colab": {
          "base_uri": "https://localhost:8080/"
        },
        "id": "cvL0E2somyol",
        "outputId": "7f6fe8e7-1ab6-4f22-9dd3-fde1ae04b094"
      },
      "execution_count": null,
      "outputs": [
        {
          "output_type": "stream",
          "name": "stdout",
          "text": [
            "Qual é seu nome? Jé\n",
            "Prazer em te conhecer          Jé         !\n"
          ]
        }
      ]
    },
    {
      "cell_type": "code",
      "source": [
        "nome = input('Qual é seu nome? ')\n",
        "print('Prazer em te conhecer {:=^20}!'.format(nome))"
      ],
      "metadata": {
        "colab": {
          "base_uri": "https://localhost:8080/"
        },
        "id": "7IzCmCz3m2tO",
        "outputId": "14289525-d28c-400e-a0b4-9ec2384ec997"
      },
      "execution_count": null,
      "outputs": [
        {
          "output_type": "stream",
          "name": "stdout",
          "text": [
            "Qual é seu nome? Jé\n",
            "Prazer em te conhecer =========Jé=========!\n"
          ]
        }
      ]
    },
    {
      "cell_type": "code",
      "source": [
        "n1 = int(input('Um valor: '))\n",
        "n2 = int(input('Outro valor: '))\n",
        "\n",
        "s = n1 + n2\n",
        "m = n1 * n2\n",
        "d = n1 / n2\n",
        "di = n1 // n2\n",
        "e = n1 ** n2\n",
        "\n",
        "print('A soma é {}\\nO produto é {}\\nA divisão é {:.3f}'.format(s, m, d), end=' ')\n",
        "print('\\nDivisão inteira {}\\nPotência {}'.format(di, e))"
      ],
      "metadata": {
        "id": "owHBrUN0nCkh"
      },
      "execution_count": null,
      "outputs": []
    },
    {
      "cell_type": "markdown",
      "source": [
        "Faça um programa que leia um número inteiro e mostra na tela o seu sucesso e seu antecessor"
      ],
      "metadata": {
        "id": "6HoRxArj3tk0"
      }
    },
    {
      "cell_type": "code",
      "source": [
        "n = int(input('Digite um número inteiro: '))\n",
        "\n",
        "ant = n - 1\n",
        "suc = n + 1\n",
        "\n",
        "print('O número é {}\\nSeu antecessor é {}\\nSeu sucessor é {}'.format(n, ant, suc))\n"
      ],
      "metadata": {
        "colab": {
          "base_uri": "https://localhost:8080/"
        },
        "id": "U4fK8UmFp7W4",
        "outputId": "5ff4e917-7760-4cb1-a150-ea6b4e41676a"
      },
      "execution_count": null,
      "outputs": [
        {
          "output_type": "stream",
          "name": "stdout",
          "text": [
            "Digite um número inteiro: 2\n",
            "O número é 2\n",
            "Seu antecessor é 1\n",
            "Seu sucessor é 3\n"
          ]
        }
      ]
    },
    {
      "cell_type": "code",
      "source": [
        "n = int(input('Digite um número: '))\n",
        "\n",
        "m1 = n * 2\n",
        "m2 = n * 3\n",
        "e = n ** 2\n",
        "\n",
        "print('O dobro do número é {}\\nA seu triplo é {}\\nA sua raiz quadrada é {}'.format(m1, m2, e))"
      ],
      "metadata": {
        "id": "aMIFzVq8qpLT"
      },
      "execution_count": null,
      "outputs": []
    },
    {
      "cell_type": "code",
      "source": [
        "n1 = float(input('Digite a primeira nota: '))\n",
        "n2 = float(input('Digite a segunda nota: '))\n",
        "\n",
        "media = (n1 + n2) / 2\n",
        "\n",
        "print('A média do aluno é', media)"
      ],
      "metadata": {
        "id": "ygMI7-karnUR"
      },
      "execution_count": null,
      "outputs": []
    },
    {
      "cell_type": "code",
      "source": [
        "m = float(input('Digite um valor em metro: '))\n",
        "\n",
        "cm = m * 100\n",
        "\n",
        "mm = m * 1000\n",
        "\n",
        "print('O valor {} tem {}cm e {}mm'.format(m, cm, mm))"
      ],
      "metadata": {
        "colab": {
          "base_uri": "https://localhost:8080/"
        },
        "id": "5ekkBqamsNWR",
        "outputId": "e009e79a-c1c5-49e9-c3ae-4e389ec1f441"
      },
      "execution_count": null,
      "outputs": [
        {
          "output_type": "stream",
          "name": "stdout",
          "text": [
            "Digite um valor em metro: 1\n",
            "O valor 1.0 tem 100.0cm e 1000.0mm\n"
          ]
        }
      ]
    },
    {
      "cell_type": "markdown",
      "source": [
        "Existe uma forma mais fácil de responder o exercício abaixo?"
      ],
      "metadata": {
        "id": "3kO1duKt3ewZ"
      }
    },
    {
      "cell_type": "code",
      "source": [
        "n = int(input('Digite um valor inteiro: '))\n",
        "\n",
        "n1 = n * 1\n",
        "n2 = n * 2\n",
        "n3 = n * 3\n",
        "n4 = n * 4\n",
        "n5 = n * 5\n",
        "n6 = n * 6\n",
        "n7 = n * 7\n",
        "n8 = n * 8\n",
        "n9 = n * 9\n",
        "n10 = n * 10\n",
        "\n",
        "print('A tabuada de {} é: {}, {}, {}, {}, {}, {}, {}, {}, {}, {}'.format(n, n1, n2, n3, n4, n5, n6, n7, n8, n9, n10))"
      ],
      "metadata": {
        "id": "B-JY7R6qyWK_"
      },
      "execution_count": null,
      "outputs": []
    },
    {
      "cell_type": "code",
      "source": [
        "reais = float(input('Digite quantos reias você têm: '))\n",
        "\n",
        "dolares = reais / 3.27\n",
        "\n",
        "print('Você pode comprar {} dólares'.format(dolares))"
      ],
      "metadata": {
        "id": "4wilyN0izjVT"
      },
      "execution_count": null,
      "outputs": []
    },
    {
      "cell_type": "code",
      "source": [
        "h = float(input('Digite a altura da parede: '))\n",
        "l = float(input('Digite a largura da parede: '))\n",
        "\n",
        "area = h * l\n",
        "litro = area / 2\n",
        "\n",
        "print('Você precisa de {} litros de tinta'.format(litro))"
      ],
      "metadata": {
        "colab": {
          "base_uri": "https://localhost:8080/"
        },
        "id": "53KjqP7D0U3Z",
        "outputId": "7c2ab4e0-5161-43cd-efa3-b76e0d80f582"
      },
      "execution_count": null,
      "outputs": [
        {
          "output_type": "stream",
          "name": "stdout",
          "text": [
            "Digite a altura da parede: 2\n",
            "Digite a largura da parede: 5\n",
            "Você precisa de 5.0 litros de tinta\n"
          ]
        }
      ]
    },
    {
      "cell_type": "code",
      "source": [
        "preco = float(input('Digite o preço do produto: '))\n",
        "\n",
        "desconto = preco * 0.05\n",
        "novo_preco = preco - desconto\n",
        "\n",
        "print('O novo preço do produto é: ',novo_preco)"
      ],
      "metadata": {
        "colab": {
          "base_uri": "https://localhost:8080/"
        },
        "id": "EElhN8oc1MwU",
        "outputId": "8982693d-4446-45de-a6af-650be762c8e2"
      },
      "execution_count": null,
      "outputs": [
        {
          "output_type": "stream",
          "name": "stdout",
          "text": [
            "Digite o preço do produto: 10\n",
            "O novo preço do produto é:  9.5\n"
          ]
        }
      ]
    },
    {
      "cell_type": "code",
      "source": [
        "salario1 = float(input('Digite seu salário: '))\n",
        "\n",
        "salario2 = salario1 * 1.15\n",
        "\n",
        "print('O novo salário é: ',salario2)"
      ],
      "metadata": {
        "colab": {
          "base_uri": "https://localhost:8080/"
        },
        "id": "OTg3B9TW10_A",
        "outputId": "73872817-7c75-47c2-c9e6-d3e5cedb08be"
      },
      "execution_count": null,
      "outputs": [
        {
          "output_type": "stream",
          "name": "stdout",
          "text": [
            "Digite seu salário: 1000\n",
            "O novo salário é:  1150.0\n"
          ]
        }
      ]
    }
  ]
}